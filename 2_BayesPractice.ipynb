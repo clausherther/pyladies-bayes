{
 "cells": [
  {
   "cell_type": "markdown",
   "metadata": {},
   "source": [
    "# Pyladies Meetup Week One: Bayes in Practice"
   ]
  },
  {
   "cell_type": "markdown",
   "metadata": {},
   "source": [
    "## Meant for an \"after work\" live presentation\n",
    "This notebook is meant for a live presentation and may be confusing to follow without direct explanation. It also is a very quick treatment of Bayes Theorem for the mean for the \"after work exhausted professional\".\n",
    "\n",
    "If you're interested after this tutorial I would suggest reading\n",
    "\n",
    "* Bayesian Analysis with Python - Osvaldo Martin\n",
    "* Statistical Rethinking - Richard McElreath"
   ]
  },
  {
   "cell_type": "code",
   "execution_count": 33,
   "metadata": {},
   "outputs": [],
   "source": [
    "import pymc3 as pm\n",
    "import numpy as np\n",
    "import arviz as az\n",
    "import matplotlib.pyplot as plt\n",
    "from scipy import stats"
   ]
  },
  {
   "cell_type": "markdown",
   "metadata": {},
   "source": [
    "## Agenda\n",
    "1. Bayes Refresher from last week\n",
    "2. A case of a little data and a lot of data\n",
    "3. Linear Regression\n",
    "    * Least Squares Method\n",
    "    * Bayesian Method\n",
    "5. Real world example\n",
    "6. Why's this useful?"
   ]
  },
  {
   "cell_type": "markdown",
   "metadata": {},
   "source": [
    "## Refresher\n",
    "Bayesian methods let us \n",
    "* Define our own model of how data is generated\n",
    "* Incorporate prior beliefs\n",
    "* Estimate uncertainty in our beliefs given data/observations\n",
    "\n",
    "Last week this is how we did it with our cards data"
   ]
  },
  {
   "cell_type": "code",
   "execution_count": 19,
   "metadata": {},
   "outputs": [
    {
     "name": "stdout",
     "output_type": "stream",
     "text": [
      "Number of Red Observations 2, Total Number of Observations 5\n"
     ]
    },
    {
     "name": "stderr",
     "output_type": "stream",
     "text": [
      "Auto-assigning NUTS sampler...\n",
      "Initializing NUTS using jitter+adapt_diag...\n",
      "Multiprocess sampling (4 chains in 4 jobs)\n",
      "NUTS: [p_red]\n",
      "Sampling 4 chains: 100%|██████████| 22000/22000 [00:02<00:00, 7673.00draws/s]\n"
     ]
    },
    {
     "data": {
      "image/png": "[encoded data removed]",
      "text/plain": [
       "<Figure size 432x288 with 1 Axes>"
      ]
     },
     "metadata": {
      "needs_background": "light"
     },
     "output_type": "display_data"
    }
   ],
   "source": [
    "observations = [0, 0, 0, 1, 1]\n",
    "red_observations = sum(observations)\n",
    "total_observations = len(observations)\n",
    "print(f\"Number of Red Observations {red_observations}, Total Number of Observations {total_observations}\")\n",
    "\n",
    "with pm.Model() as five_obs_model:\n",
    "    # Prior\n",
    "    p_red = pm.Uniform(\"p_red\", 0, 1)\n",
    "    \n",
    "    # Likelihood\n",
    "    num_red = pm.Binomial(\"number_observed_red\", p=p_red, n=total_observations, observed=red_observations)\n",
    "    trace = pm.sample(draws=5000)\n",
    "    \n",
    "az.plot_posterior(trace);"
   ]
  },
  {
   "cell_type": "markdown",
   "metadata": {},
   "source": [
    "## Linear Regression: The next obligatory statistics example\n",
    "Let's simulate some linear data. We'll simulate some noise/error that always occurs in real life as well."
   ]
  },
  {
   "cell_type": "code",
   "execution_count": 132,
   "metadata": {},
   "outputs": [
    {
     "data": {
      "text/plain": [
       "(array([6, 1, 4, 4, 8, 4, 6, 3, 5, 8]),\n",
       " array([23.44801272, 12.71800553, 20.15224208, 18.38428167, 27.70585192,\n",
       "        18.03671437, 22.85660713, 17.99255567, 19.01770069, 27.42535633]))"
      ]
     },
     "execution_count": 132,
     "metadata": {},
     "output_type": "execute_result"
    }
   ],
   "source": [
    "np.random.seed(0)\n",
    "sample_size = 100\n",
    "\n",
    "# Generate random values between 1 and 50\n",
    "x = np.random.randint(1, 10, sample_size)\n",
    "\n",
    "intercept = 10\n",
    "slope = 2\n",
    "\n",
    "# Generate y values using out slope and intercept\n",
    "y= x*slope + intercept\n",
    "\n",
    "# Add some noise in using a zero centered Gaussian/Normal Distribution\n",
    "noise = 2\n",
    "noisy_y = y + stats.norm(0, noise).rvs(sample_size)\n",
    "\n",
    "x[:10], noisy_y[:10]"
   ]
  },
  {
   "cell_type": "code",
   "execution_count": 135,
   "metadata": {},
   "outputs": [
    {
     "data": {
      "text/plain": [
       "(2.0334236749589443,\n",
       " 9.92266432757549,\n",
       " 0.9270782237157019,\n",
       " 1.5047628425131682e-43,\n",
       " 0.08305709731417138)"
      ]
     },
     "execution_count": 135,
     "metadata": {},
     "output_type": "execute_result"
    }
   ],
   "source": [
    "slope, intercept, r_value, p_value, std_err = stats.linregress(x, noisy_y)\n",
    "slope, intercept, r_value, p_value, std_err"
   ]
  },
  {
   "cell_type": "markdown",
   "metadata": {},
   "source": [
    "## Standard Linear Regression"
   ]
  },
  {
   "cell_type": "code",
   "execution_count": 137,
   "metadata": {},
   "outputs": [
    {
     "data": {
      "text/plain": [
       "[<matplotlib.lines.Line2D at 0x7f382e47b9d0>]"
      ]
     },
     "execution_count": 137,
     "metadata": {},
     "output_type": "execute_result"
    },
    {
     "data": {
      "image/png": "[encoded data removed]",
      "text/plain": [
       "<Figure size 432x288 with 1 Axes>"
      ]
     },
     "metadata": {
      "needs_background": "light"
     },
     "output_type": "display_data"
    }
   ],
   "source": [
    "fig, ax = plt.subplots()\n",
    "\n",
    "# Plot Dots\n",
    "ax.scatter(x, noisy_y)\n",
    "\n",
    "# Plot Best Fit Line\n",
    "_x = np.linspace(0, 20, 1000)\n",
    "ax.plot(x, x*slope+intercept)"
   ]
  },
  {
   "cell_type": "markdown",
   "metadata": {},
   "source": [
    "## Bayes Linear Regression"
   ]
  },
  {
   "cell_type": "code",
   "execution_count": 138,
   "metadata": {},
   "outputs": [
    {
     "name": "stderr",
     "output_type": "stream",
     "text": [
      "Auto-assigning NUTS sampler...\n",
      "Initializing NUTS using jitter+adapt_diag...\n",
      "Multiprocess sampling (4 chains in 4 jobs)\n",
      "NUTS: [noise_estimate, intercept_estimate, slope_estimate]\n",
      "Sampling 4 chains: 100%|██████████| 22000/22000 [00:05<00:00, 3898.83draws/s]\n"
     ]
    },
    {
     "data": {
      "text/plain": [
       "(<Figure size 432x518.4 with 1 Axes>,\n",
       " array([<matplotlib.axes._subplots.AxesSubplot object at 0x7f381ef1cf50>],\n",
       "       dtype=object))"
      ]
     },
     "execution_count": 138,
     "metadata": {},
     "output_type": "execute_result"
    },
    {
     "data": {
      "image/png": "[encoded data removed]",
      "text/plain": [
       "<Figure size 432x518.4 with 1 Axes>"
      ]
     },
     "metadata": {
      "needs_background": "light"
     },
     "output_type": "display_data"
    }
   ],
   "source": [
    "with pm.Model() as linear_model:\n",
    "    \n",
    "    slope_estimate = pm.Normal(\"slope_estimate\", 0, 1)\n",
    "    intercept_estimate = pm.Normal(\"intercept_estimate\", 0, 1)\n",
    "    \n",
    "    # Noise is its own parameter\n",
    "    noise_estimate = pm.HalfNormal(\"noise_estimate\", 5)\n",
    "    \n",
    "    # The data follows a mean of y with a known noise\n",
    "    y_estimate = pm.Normal(\"y_estimate\", slope_estimate*x + intercept_estimate, noise_estimate, observed=noisy_y)\n",
    "    trace = pm.sample(draws=5000)\n",
    "    \n",
    "\n",
    "az.plot_forest(trace)"
   ]
  },
  {
   "cell_type": "markdown",
   "metadata": {},
   "source": [
    "## World Health Example"
   ]
  },
  {
   "cell_type": "markdown",
   "metadata": {},
   "source": [
    "## Extra topics we are not covering\n",
    "\n",
    "### Hierachial Regresions\n",
    "Bayesian Methods allow for a concept of hierarchial pooling, where multiple subgroups can share inforation from a pooled group. This is a great way to make the most of sparse datasets. A good example of this is Radon Levels in basements, where many counties only have a couple measurements, but overall there are a couple hundred measurements. \n",
    "\n",
    "### Generative Modeling\n",
    "Bayesian Models are generative, meaning you can simulate what future would look like. This can be good if your data is sparse, and you want to see what the next observations might look like\n",
    "\n",
    "### Decision Analysis\n",
    "The generative model part becomes really great with decision analysis, which lets you optimize future choices. An example [optimizing the best place to buy material from](http://canyon289.github.io/BayesianDecisionMaking.html#BayesianDecisionMaking)\n",
    "\n",
    "### You get to work with an amazing group of people making cool open source software to freely share knowledge with the world!!!!\n",
    "Ok sure this one doesn't look like the others, but really the people I've worked interacted with in the Bayesian community are fantastic. If you're looking to join an open source community I've found no better. Feel free to reach out to me or check out the contributing guide on the repos. Or show up to PyDataLA where we are running open source sprints!"
   ]
  }
 ],
 "metadata": {
  "kernelspec": {
   "display_name": "Python 3",
   "language": "python",
   "name": "python3"
  },
  "language_info": {
   "codemirror_mode": {
    "name": "ipython",
    "version": 3
   },
   "file_extension": ".py",
   "mimetype": "text/x-python",
   "name": "python",
   "nbconvert_exporter": "python",
   "pygments_lexer": "ipython3",
   "version": "3.7.4"
  }
 },
 "nbformat": 4,
 "nbformat_minor": 4
}
